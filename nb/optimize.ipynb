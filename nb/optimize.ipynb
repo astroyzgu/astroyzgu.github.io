{
 "cells": [
  {
   "cell_type": "markdown",
   "metadata": {},
   "source": [
    "# scaling and matching （used to wavelength calibration）"
   ]
  },
  {
   "cell_type": "code",
   "execution_count": 13,
   "metadata": {},
   "outputs": [
    {
     "name": "stdout",
     "output_type": "stream",
     "text": [
      "initial guess coeffs:  [0. 0.]\n",
      "optimized coeffs:  [1. 1.]\n"
     ]
    }
   ],
   "source": [
    "from scipy.optimize import minimize\n",
    "import numpy as np \n",
    "from functools import partial \n",
    "\n",
    "def chi2model(coeff, x, y):\n",
    "    y_predict = np.polyval(coeff, x)\n",
    "    chi2 = np.sum((y - y_predict) ** 2)\n",
    "    return chi2\n",
    "x_ini=np.array([0.0,0.0])#x初始值的类型为数组类型\n",
    "\n",
    "x=np.array([1.0,2.0,3.0,4.0,5.0])#x的值\n",
    "y=np.array([2.0,3.0,4.0,5.0,6.0])#y的值\n",
    "res=minimize(chi2model, x_ini, bounds=((-10,10),(-10,10)), args = (x,y)) \n",
    "print('initial guess coeffs: ', x_ini)\n",
    "print('optimized coeffs: ', res.x)"
   ]
  },
  {
   "cell_type": "code",
   "execution_count": null,
   "metadata": {},
   "outputs": [
    {
     "name": "stdout",
     "output_type": "stream",
     "text": [
      "initial guess coeffs:  [0, 0.10300000000000002, 0.463]\n",
      "optimized coeffs:  [0.00299952 0.08000332 0.49999642]\n"
     ]
    },
    {
     "data": {
      "text/plain": [
       "<matplotlib.legend.Legend at 0x1b3b1ef50>"
      ]
     },
     "execution_count": 14,
     "metadata": {},
     "output_type": "execute_result"
    },
    {
     "data": {
      "image/png": "[encoded data removed]",
      "text/plain": [
       "<Figure size 800x200 with 1 Axes>"
      ]
     },
     "metadata": {},
     "output_type": "display_data"
    }
   ],
   "source": [
    "import numpy as np\n",
    "import matplotlib.pyplot as plt \n",
    "from scipy.optimize import minimize\n",
    "\n",
    "\n",
    "ypix1   = np.array([1, 2, 5, 6])\n",
    "ypix2   = 0.003*ypix1**2 + 0.08*ypix1 + 0.5 # + np.random.normal(0, 0.1, len(ypix1))\n",
    "def chi2model1(coeff, y1, y2): \n",
    "    y1_predict = np.polyval(coeff, y1) \n",
    "    mat = (y2[:, np.newaxis] - y1_predict)**2\n",
    "    argmin = np.argmin(mat, axis=1) \n",
    "    chi2   = 0.0  \n",
    "    for i, iarg in enumerate(argmin): chi2 += mat[i, iarg]\n",
    "    return chi2\n",
    "def initial_guess(y1, y2): \n",
    "    b = np.median( np.gradient(y2) ) / np.median( np.gradient(y1) )\n",
    "    c = np.median(y2) - b * np.median(y1) \n",
    "    return [0, b, c]\n",
    "b = np.median( np.gradient(ypix2) ) / np.median( np.gradient(ypix1) )\n",
    "c = np.median(ypix2) - b * np.median(ypix1) \n",
    "x_ini = initial_guess(ypix1, ypix2) \n",
    "res=minimize(chi2model1, x_ini, bounds=((-b,b), (0,np.inf),(0,np.inf)), args = (ypix1,ypix2)) \n",
    "print('initial guess coeffs: ', x_ini)\n",
    "print('optimized coeffs: ', res.x)\n",
    "\n",
    "plt.figure(figsize=(8,2)) \n",
    "plt.plot(ypix2, np.zeros_like(ypix2), 'rs', label='ypix2')\n",
    "for ypix2_ in ypix2: plt.axvline(ypix2_, color='r', alpha=0.1, ls = 'dashed') \n",
    "plt.plot(np.polyval(x_ini, ypix1), np.zeros_like(ypix1) + 1, 'bo', label='ypix1, gauess')\n",
    "plt.plot(np.polyval(res.x, ypix1), np.zeros_like(ypix1) + 2, 'go', label='ypix1, optimize')\n",
    "plt.legend() "
   ]
  }
 ],
 "metadata": {
  "kernelspec": {
   "display_name": "desitest3",
   "language": "python",
   "name": "desitest3"
  },
  "language_info": {
   "codemirror_mode": {
    "name": "ipython",
    "version": 3
   },
   "file_extension": ".py",
   "mimetype": "text/x-python",
   "name": "python",
   "nbconvert_exporter": "python",
   "pygments_lexer": "ipython3",
   "version": "3.10.16"
  }
 },
 "nbformat": 4,
 "nbformat_minor": 2
}
